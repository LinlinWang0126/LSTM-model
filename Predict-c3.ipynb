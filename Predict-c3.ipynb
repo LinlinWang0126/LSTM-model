{
 "cells": [
  {
   "cell_type": "code",
   "execution_count": null,
   "id": "052ec349-068f-4782-8ca9-3951408fe2e5",
   "metadata": {
    "tags": []
   },
   "outputs": [],
   "source": [
    "import import_ipynb\n",
    "from Model3 import Lstm\n",
    "from Dataset import c3_data\n",
    "import os\n",
    "import numpy as np"
   ]
  },
  {
   "cell_type": "code",
   "execution_count": null,
   "id": "cb8cd039-008e-405b-9639-67be9aabe8c4",
   "metadata": {
    "tags": []
   },
   "outputs": [],
   "source": [
    "os.environ['TF_CPP_MIN_LOG_LEVEL'] = '2'\n",
    "_, _, _, _, scaler_x, scaler_y = c3_data()\n"
   ]
  },
  {
   "cell_type": "code",
   "execution_count": null,
   "id": "5fae9912-942c-43b0-81c5-4185c83a8938",
   "metadata": {
    "tags": []
   },
   "outputs": [],
   "source": [
    "model = Lstm(output=5)\n",
    "\n",
    "model.load_weights('./model/model3_weight')"
   ]
  },
  {
   "cell_type": "code",
   "execution_count": null,
   "id": "7765d911-df11-4eb7-bae6-66cbe6299558",
   "metadata": {
    "tags": []
   },
   "outputs": [],
   "source": [
    "Strain = input('Strain(enter):')\n",
    "Stress = input('Stress(enter):')\n",
    "x = []\n",
    "x.append(eval(Strain))\n",
    "x.append(eval(Stress))\n",
    "x = np.array(x)\n",
    "x = x.reshape(1, 2)\n",
    "\n",
    "x = scaler_x.transform(x)\n",
    "\n",
    "x = x.reshape(1, 2, -1)"
   ]
  },
  {
   "cell_type": "code",
   "execution_count": null,
   "id": "fb025051-00b0-4912-8986-3b2511ff4634",
   "metadata": {
    "tags": []
   },
   "outputs": [],
   "source": [
    "y_predict = model.predict(x, verbose=0)\n",
    "\n",
    "predict = scaler_y.inverse_transform(y_predict)\n",
    "\n",
    "predict_rounded = np.round(predict, 2)\n",
    "\n",
    "titles = ['Temperature', 'Speed', 'Angle', 'Height', 'Fill']\n",
    "print('Strain:', Strain, 'Stress', Stress)\n",
    "for i in range(predict.shape[1]):\n",
    "    print(titles[i], predict_rounded[0, i])"
   ]
  },
  {
   "cell_type": "code",
   "execution_count": null,
   "id": "653264e1-d198-4b34-bf50-9a6a8b7525ef",
   "metadata": {},
   "outputs": [],
   "source": []
  }
 ],
 "metadata": {
  "kernelspec": {
   "display_name": "Python 3 (ipykernel)",
   "language": "python",
   "name": "python3"
  },
  "language_info": {
   "codemirror_mode": {
    "name": "ipython",
    "version": 3
   },
   "file_extension": ".py",
   "mimetype": "text/x-python",
   "name": "python",
   "nbconvert_exporter": "python",
   "pygments_lexer": "ipython3",
   "version": "3.8.10"
  }
 },
 "nbformat": 4,
 "nbformat_minor": 5
}
