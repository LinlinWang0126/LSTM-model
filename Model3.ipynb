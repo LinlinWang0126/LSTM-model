{
 "cells": [
  {
   "cell_type": "code",
   "execution_count": null,
   "id": "68a7b146-3b0d-4e91-ae38-46a5c07a575f",
   "metadata": {
    "tags": []
   },
   "outputs": [],
   "source": [
    "import tensorflow as tf\n",
    "import keras\n",
    "from keras import layers\n"
   ]
  },
  {
   "cell_type": "code",
   "execution_count": null,
   "id": "c89b55ef-5b44-4f6b-9401-cae268b22916",
   "metadata": {
    "tags": []
   },
   "outputs": [],
   "source": [
    "class Lstm(keras.Model):\n",
    "    def __init__(self, output):\n",
    "        \n",
    "        super(Lstm, self).__init__()\n",
    "        #\n",
    "        self.dense1 = layers.LSTM(512, activation=\"tanh\", return_sequences=True)\n",
    "        self.dense2 = layers.LSTM(512, return_sequences=False)\n",
    "        self.dense3 = layers.Dense(256, activation='relu')\n",
    "        self.dense4 = layers.Dense(output)\n",
    "\n",
    "    def call(self, inputs, *args, **kwargs):\n",
    "        out = self.dense1(inputs)\n",
    "        out = self.dense2(out)\n",
    "        out = self.dense3(out)\n",
    "        out = self.dense4(out)\n",
    "\n",
    "        return out\n",
    "\n",
    "\n",
    "if __name__ == '__main__':\n",
    "    \n",
    "    x = tf.random.uniform(shape=(16, 2, 1))\n",
    "    model = Lstm(output=5)\n",
    "    y = model(x)\n",
    "    print(y.shape)\n"
   ]
  },
  {
   "cell_type": "code",
   "execution_count": null,
   "id": "4b20daf1-c546-414a-af18-02c37394f461",
   "metadata": {},
   "outputs": [],
   "source": []
  }
 ],
 "metadata": {
  "kernelspec": {
   "display_name": "Python 3 (ipykernel)",
   "language": "python",
   "name": "python3"
  },
  "language_info": {
   "codemirror_mode": {
    "name": "ipython",
    "version": 3
   },
   "file_extension": ".py",
   "mimetype": "text/x-python",
   "name": "python",
   "nbconvert_exporter": "python",
   "pygments_lexer": "ipython3",
   "version": "3.8.10"
  }
 },
 "nbformat": 4,
 "nbformat_minor": 5
}
