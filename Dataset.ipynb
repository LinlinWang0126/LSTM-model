{
 "cells": [
  {
   "cell_type": "code",
   "execution_count": null,
   "id": "fcfa9773-92a0-4760-bcbd-e15216e722a2",
   "metadata": {
    "tags": []
   },
   "outputs": [],
   "source": [
    "import pandas as pd\n",
    "from sklearn.preprocessing import StandardScaler, MinMaxScaler\n",
    "from sklearn.model_selection import train_test_split\n",
    "import numpy as np"
   ]
  },
  {
   "cell_type": "code",
   "execution_count": null,
   "id": "5ffa4b47-de2b-470c-bbdd-58c43e9badde",
   "metadata": {
    "tags": []
   },
   "outputs": [],
   "source": [
    "def c3_data():\n",
    "    df = pd.read_csv('C3-RAW DATA.csv')\n",
    "    print(df.shape)\n",
    "\n",
    " \n",
    "    df.drop_duplicates(inplace=True)\n",
    "    print(df.shape)\n",
    "\n",
    "    x = df.iloc[:, :2].values\n",
    "    y = df.iloc[:, 2:].values\n",
    "\n",
    "    print(x.shape, y.shape)\n",
    "    \n",
    "\n",
    "    scaler_x = StandardScaler()\n",
    "    scaler_x.fit(x)\n",
    "    x = scaler_x.transform(x)\n",
    "    x = x.reshape((-1, 2, 1))\n",
    "\n",
    "    scaler_y = StandardScaler()\n",
    "    scaler_y.fit(y)\n",
    "    y = scaler_y.transform(y)\n",
    "\n",
    "\n",
    "    x_train, x_test, y_train, y_test = train_test_split(x, y, test_size=0.2, random_state=666)\n",
    "\n",
    "    return x_train, x_test, y_train, y_test, scaler_x, scaler_y\n"
   ]
  },
  {
   "cell_type": "code",
   "execution_count": null,
   "id": "b5b6b064-73cd-4a80-91cc-1e75a3b77ea2",
   "metadata": {
    "tags": []
   },
   "outputs": [],
   "source": [
    "\n",
    "x_train, x_test, y_train, y_test, scaler_x, scaler_y = c3_data()\n",
    "\n",
    "x_train_reshaped = x_train.reshape(x_train.shape[0], x_train.shape[1])\n",
    "x_test_reshaped = x_test.reshape(x_test.shape[0], x_test.shape[1])\n",
    "\n",
    "y_train_reshaped = y_train.reshape(y_train.shape[0], y_train.shape[1])\n",
    "y_test_reshaped = y_test.reshape(y_test.shape[0], y_test.shape[1])\n",
    "\n",
    "\n",
    "df_x_train = pd.DataFrame(x_train_reshaped)\n",
    "df_x_test = pd.DataFrame(x_test_reshaped)\n",
    "df_y_train = pd.DataFrame(y_train_reshaped)\n",
    "df_y_test = pd.DataFrame(y_test_reshaped)\n",
    "\n",
    "\n",
    "df_x_train.to_csv('x_train.csv', index=False)\n",
    "df_x_test.to_csv('x_test.csv', index=False)\n",
    "df_y_train.to_csv('y_train.csv', index=False)\n",
    "df_y_test.to_csv('y_test.csv', index=False)\n"
   ]
  },
  {
   "cell_type": "code",
   "execution_count": null,
   "id": "4b6da8a7-38f4-4a40-8390-eb536c0d9347",
   "metadata": {},
   "outputs": [],
   "source": []
  }
 ],
 "metadata": {
  "kernelspec": {
   "display_name": "Python 3 (ipykernel)",
   "language": "python",
   "name": "python3"
  },
  "language_info": {
   "codemirror_mode": {
    "name": "ipython",
    "version": 3
   },
   "file_extension": ".py",
   "mimetype": "text/x-python",
   "name": "python",
   "nbconvert_exporter": "python",
   "pygments_lexer": "ipython3",
   "version": "3.8.10"
  }
 },
 "nbformat": 4,
 "nbformat_minor": 5
}
