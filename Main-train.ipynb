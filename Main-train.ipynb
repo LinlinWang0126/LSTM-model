{
 "cells": [
  {
   "cell_type": "code",
   "execution_count": null,
   "id": "861b51a8-dae2-43e9-958f-42ef84413f4a",
   "metadata": {
    "tags": []
   },
   "outputs": [],
   "source": [
    "import import_ipynb\n",
    "from Model3 import Lstm\n",
    "from Dataset import c3_data\n",
    "\n",
    "import os\n",
    "import matplotlib.pyplot as plt\n",
    "import tensorflow as tf\n",
    "from keras import optimizers\n",
    "from sklearn.metrics import r2_score, mean_squared_error\n",
    "import matplotlib.patches as patches\n",
    "import matplotlib.pyplot as plt\n",
    "import numpy as np"
   ]
  },
  {
   "cell_type": "code",
   "execution_count": null,
   "id": "b24a6742-ea7b-4197-9975-df8c71d9f16e",
   "metadata": {
    "tags": []
   },
   "outputs": [],
   "source": [
    "os.environ['CUDA_VISIBLE_DEVICES'] = '0'\n",
    "os.environ['TF_CPP_MIN_LOG_LEVEL'] = '2'"
   ]
  },
  {
   "cell_type": "code",
   "execution_count": null,
   "id": "44fc0754-5c39-4184-9690-4b593c2595bc",
   "metadata": {
    "tags": []
   },
   "outputs": [],
   "source": [
    "x_train, x_test, y_train, y_test, scaler_x, scaler_y = c3_data()\n",
    "\n",
    "model = Lstm(output=5)\n",
    "\n",
    "model.build(input_shape=[None, 2, 1])\n",
    "\n",
    "model.summary()\n",
    "\n",
    "model.compile(\n",
    "    optimizer=optimizers.Adam(learning_rate=1e-3),\n",
    "    loss=tf.losses.MeanSquaredError()\n",
    ")\n"
   ]
  },
  {
   "cell_type": "code",
   "execution_count": null,
   "id": "da4eed62-7072-427a-95d4-d51e3dd85fb1",
   "metadata": {
    "tags": []
   },
   "outputs": [],
   "source": [
    "model.load_weights('./model/model3_weight')"
   ]
  },
  {
   "cell_type": "code",
   "execution_count": null,
   "id": "99df3954-5747-403e-88f4-fae2de2cf16e",
   "metadata": {},
   "outputs": [],
   "source": [
    "model.fit(x=x_train, y=y_train, batch_size=512, epochs=300, validation_data=(x_test, y_test), validation_batch_size=512)\n",
    "\n",
    "model.save_weights('./model/model3_weight')\n"
   ]
  },
  {
   "cell_type": "code",
   "execution_count": null,
   "id": "fafca548-aa81-4603-b877-77085abc50d0",
   "metadata": {
    "tags": []
   },
   "outputs": [],
   "source": [
    "predict_train = model(x_train)\n",
    "predict_test = model(x_test)\n",
    "\n",
    "r2_train = r2_score(y_train, predict_train)\n",
    "mse_train = mean_squared_error(y_train, predict_train)\n",
    "print('Training R2:', r2_train)\n",
    "print('Training MSE:', mse_train)\n",
    "\n",
    "r2_test = r2_score(y_test, predict_test)\n",
    "mse_test = mean_squared_error(y_test, predict_test)\n",
    "print('Testing R2:', r2_test)\n",
    "print('Testing MSE:', mse_test)\n",
    "\n",
    "y_train_true = scaler_y.inverse_transform(y_train)\n",
    "y_train_pred = scaler_y.inverse_transform(predict_train)\n",
    "y_test_true = scaler_y.inverse_transform(y_test)\n",
    "y_test_pred = scaler_y.inverse_transform(predict_test)"
   ]
  },
  {
   "cell_type": "code",
   "execution_count": null,
   "id": "c6007952-ca2f-469c-be1d-d9a6ef494da4",
   "metadata": {
    "tags": []
   },
   "outputs": [],
   "source": [
    "titles = ['Print temperature', 'Print speed', 'Print angle', 'Layer hight', 'Fill rate']\n",
    "directory = './figure/c3/'\n",
    "if not os.path.exists(directory):\n",
    "    os.makedirs(directory)\n",
    "\n",
    "fig, axs = plt.subplots(len(titles), 1, figsize=(10, 10))\n",
    "\n",
    "for i in range(len(titles)):\n",
    "    axs[i].plot(y_true[:150, i], '#6FA1D5', label='True')  \n",
    "    axs[i].plot(y_pre[:150, i], 'r--', label='Predicted')  \n",
    "    \n",
    "    axs[i].set_xlabel('Sample Index')\n",
    "    axs[i].set_ylabel(titles[i])\n",
    "    \n",
    "    y_max = max(max(y_true[:, i]), max(y_pre[:, i]))\n",
    "    ylim_factors = [1.003, 1, 0.95, 1, 1]  \n",
    "    if i == 2:\n",
    "        axs[i].set_ylim(-15, 100)\n",
    "    else:\n",
    "        axs[i].set_ylim(top=y_max * ylim_factors[i])\n",
    "    \n",
    "    axs[i].text(0.99, 0.95, f'({chr(97 + i)})', transform=axs[i].transAxes, fontsize=12, fontweight='bold', va='top', ha='right')\n",
    "    \n",
    "lines, labels = axs[-1].get_legend_handles_labels()\n",
    "fig.legend(lines, ['True', 'Predicted'], loc='lower center', ncol=2, bbox_to_anchor=(0.5, -0.05))\n",
    "\n",
    "plt.tight_layout()\n",
    "\n",
    "figure_path = os.path.join(directory, f\"{titles[i]}.png\")\n",
    "\n",
    "plt.savefig(figure_path, dpi=300, bbox_inches='tight')\n",
    "plt.show()\n",
    "plt.close()"
   ]
  },
  {
   "cell_type": "code",
   "execution_count": null,
   "id": "3228eb7e-577b-4569-bae7-2bf46f6cb652",
   "metadata": {
    "tags": []
   },
   "outputs": [],
   "source": [
    "history = model.fit(\n",
    "    x=x_train, \n",
    "    y=y_train, \n",
    "    batch_size=512, \n",
    "    epochs=300, \n",
    "    validation_data=(x_test, y_test), \n",
    "    validation_batch_size=512\n",
    ")\n"
   ]
  },
  {
   "cell_type": "code",
   "execution_count": null,
   "id": "65526c88-7811-46a3-a47d-2cb9daf9926d",
   "metadata": {
    "tags": []
   },
   "outputs": [],
   "source": [
    "plt.figure(figsize=(10, 8))\n",
    "plt.plot(history.history['loss'], label='Training Loss', color='red', linewidth=2, linestyle='--')\n",
    "plt.plot(history.history['val_loss'], label='Validation Loss', color='#6FA1D5', linewidth=2, linestyle='-')\n",
    "\n",
    "\n",
    "# plt.title('Training and Validation Loss', fontsize=14, fontweight='bold')\n",
    "plt.xlabel('Epochs', fontsize=14)\n",
    "plt.ylabel('Loss', fontsize=14)\n",
    "\n",
    "plt.legend(loc='upper right', frameon=True, edgecolor='black', fontsize=14)\n",
    "\n",
    "plt.grid(True, linestyle=':', color='grey', alpha=0.6)\n",
    "plt.tick_params(axis='both', which='major', labelsize=14)\n",
    "\n",
    "plt.text(0.02, 0.95, '(a)', transform=plt.gca().transAxes, fontsize=14, fontweight='bold', va='top')\n",
    "\n",
    "plt.tight_layout()\n",
    "\n",
    "plt.savefig('./figure/training_validation_loss_improved.JPEG', dpi=300)\n",
    "\n",
    "plt.show()\n"
   ]
  },
  {
   "cell_type": "code",
   "execution_count": null,
   "id": "153d5ee4-8f09-45aa-9027-068a8c67653d",
   "metadata": {
    "tags": []
   },
   "outputs": [],
   "source": [
    "epochs_ranges = [(70, 100), (110, 140), (220, 250)]\n",
    "directory = './figure/'\n",
    "if not os.path.exists(directory):\n",
    "    os.makedirs(directory)\n",
    "\n",
    "fig, axs = plt.subplots(len(epochs_ranges), 1, figsize=(10, 8))\n",
    "\n",
    "for idx, (start, end) in enumerate(epochs_ranges):\n",
    "    axs[idx].plot(range(start, end), history.history['loss'][start:end], label='Training Loss', color='red', linewidth=2, linestyle='--')\n",
    "    axs[idx].plot(range(start, end), history.history['val_loss'][start:end], label='Validation Loss', color='#6FA1D5', linewidth=2, linestyle='-')\n",
    "\n",
    "    axs[idx].set_xlabel('Epochs', fontsize=14)\n",
    "    axs[idx].set_ylabel('Loss', fontsize=14)\n",
    "\n",
    "    axs[idx].grid(True, linestyle=':', color='grey', alpha=0.6)\n",
    "    axs[idx].tick_params(axis='both', which='major', labelsize=14)\n",
    "    axs[idx].text(0.02, 0.95, f'({chr(98 + idx)})', transform=axs[idx].transAxes, fontsize=14, fontweight='bold', va='top')\n",
    "\n",
    "plt.tight_layout(rect=[0, 0.05, 1, 1])  \n",
    "\n",
    "figure_path = os.path.join(directory, \"training_validation_loss_combined.JPEG\")\n",
    "plt.savefig(figure_path, dpi=300)\n",
    "\n",
    "plt.show()\n",
    "plt.close()"
   ]
  },
  {
   "cell_type": "code",
   "execution_count": null,
   "id": "749bba4d-1b5e-4f83-a84a-a940c1735a29",
   "metadata": {
    "tags": []
   },
   "outputs": [],
   "source": [
    "plt.figure(figsize=(10, 6))\n",
    "colors = ['#005E57', '#009B8E', '#6FA1D5', '#00D4DB', 'orange']  \n",
    "\n",
    "for i in range(y_pre.shape[1]):\n",
    "    if i == 0:\n",
    "        feature_name = \"Print temperature\"\n",
    "    elif i == 1:\n",
    "        feature_name = \"Print speed\"\n",
    "    elif i == 2:\n",
    "        feature_name = \"Print angle\"\n",
    "    elif i == 3:\n",
    "        feature_name = \"Layer height\"\n",
    "    else:\n",
    "        feature_name = \"Fill rate\"\n",
    "    \n",
    "    plt.scatter(y_true[:150, i], y_pre[:150, i], label=f'{feature_name}', color=colors[i])  \n",
    "\n",
    "\n",
    "plt.xlabel('Actual Values', fontsize=14)\n",
    "plt.ylabel('Predicted Values', fontsize=14)\n",
    "plt.legend(fontsize=14)  \n",
    "\n",
    "plt.plot([0, 230], [0, 230], color='red', linestyle='--', zorder=-1)\n",
    "plt.grid(True)\n",
    "\n",
    "plt.tight_layout()\n",
    "plt.savefig('./figure/actual_vs_predicted.png', dpi=300)\n",
    "plt.show()\n"
   ]
  },
  {
   "cell_type": "code",
   "execution_count": null,
   "id": "c1be9cbc-bbed-47ed-8838-9ef55eaabfe5",
   "metadata": {},
   "outputs": [],
   "source": []
  }
 ],
 "metadata": {
  "kernelspec": {
   "display_name": "Python 3 (ipykernel)",
   "language": "python",
   "name": "python3"
  },
  "language_info": {
   "codemirror_mode": {
    "name": "ipython",
    "version": 3
   },
   "file_extension": ".py",
   "mimetype": "text/x-python",
   "name": "python",
   "nbconvert_exporter": "python",
   "pygments_lexer": "ipython3",
   "version": "3.8.10"
  }
 },
 "nbformat": 4,
 "nbformat_minor": 5
}
